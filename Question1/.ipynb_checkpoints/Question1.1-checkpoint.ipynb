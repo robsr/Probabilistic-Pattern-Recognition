{
 "cells": [
  {
   "cell_type": "code",
   "execution_count": 1,
   "metadata": {},
   "outputs": [],
   "source": [
    "import numpy as np\n",
    "import pandas as pd\n",
    "import scipy as sp\n",
    "import math\n",
    "from scipy.stats import multivariate_normal\n",
    "import matplotlib.pyplot as plt\n",
    "import matplotlib\n",
    "import seaborn as sns\n",
    "import time\n",
    "import warnings\n",
    "\n",
    "sns.set_style('darkgrid')\n",
    "warnings.filterwarnings('ignore')\n",
    "matplotlib.rcParams['figure.figsize'] = [8, 5]"
   ]
  },
  {
   "cell_type": "code",
   "execution_count": 2,
   "metadata": {},
   "outputs": [],
   "source": [
    "D = [2,10,25,50]\n",
    "pi1 = [0.5, 0.5]\n",
    "pi2 = [0.1, 0.9]"
   ]
  },
  {
   "cell_type": "markdown",
   "metadata": {},
   "source": [
    "## Case 1\n",
    "### $N_d(0_d, I_d)$ and $N_d(\\mu_d, I_d)$, where $\\mu_d=(d, 0_{d-1})^T$"
   ]
  },
  {
   "cell_type": "code",
   "execution_count": 3,
   "metadata": {},
   "outputs": [],
   "source": [
    "def gen_data(d):\n",
    "    mu0, cov0 = np.zeros(d), np.identity(d)\n",
    "    mu1, cov1 = np.append(np.array([d]), np.zeros(d-1)), np.identity(d)\n",
    "    PARAMS = (mu0, cov0, mu1, cov1)\n",
    "    \n",
    "    X0 = np.random.multivariate_normal(mu0, cov0, size=100)\n",
    "    Y0 = np.zeros(100)\n",
    "    X1 = np.random.multivariate_normal(mu1, cov1, size=100)\n",
    "    Y1 = np.ones(100)\n",
    "    \n",
    "    X0_test = np.random.multivariate_normal(mu0, cov0, size=250)\n",
    "    Y0_test = np.zeros(250)\n",
    "    X1_test = np.random.multivariate_normal(mu1, cov1, size=250)\n",
    "    Y1_test = np.ones(250)\n",
    "    \n",
    "    X = np.append(X0, X1, axis=0); Y = np.append(Y0, Y1)\n",
    "    p = np.random.permutation(200)\n",
    "    X_train = X[p]; Y_train = Y[p]\n",
    "    \n",
    "    X = np.append(X0_test, X1_test, axis=0); Y = np.append(Y0_test, Y1_test)\n",
    "    p = np.random.permutation(500)\n",
    "    X_test = X[p]; Y_test = Y[p]\n",
    "    \n",
    "    return X_train, Y_train, X_test, Y_test, PARAMS"
   ]
  },
  {
   "cell_type": "markdown",
   "metadata": {},
   "source": [
    "#### (a) : Bayes' Risk"
   ]
  },
  {
   "cell_type": "code",
   "execution_count": 4,
   "metadata": {},
   "outputs": [],
   "source": [
    "def bayesClassifier(x, Pi, params):\n",
    "    f0 = sp.stats.multivariate_normal.pdf(x, params[0], params[1])\n",
    "    f1 = sp.stats.multivariate_normal.pdf(x, params[2], params[3])\n",
    "    if Pi[0]*f0 >= Pi[1]*f1:\n",
    "        return 0\n",
    "    else:\n",
    "        return 1"
   ]
  },
  {
   "cell_type": "code",
   "execution_count": 5,
   "metadata": {},
   "outputs": [],
   "source": [
    "def bayesRisk(Pi, d):\n",
    "    X_train, Y_train, X_test, Y_test, PARAMS = gen_data(d)\n",
    "    Y_pred = [bayesClassifier(test, Pi, PARAMS) for test in X_test]\n",
    "    bayesrisk = np.mean(Y_pred != Y_test)    \n",
    "    print(\"Bayes Risk: {} | D={} | PI={}\".format(bayesrisk, d, Pi))  "
   ]
  },
  {
   "cell_type": "code",
   "execution_count": 8,
   "metadata": {},
   "outputs": [
    {
     "name": "stdout",
     "output_type": "stream",
     "text": [
      "Bayes Risk: 0.152 | D=2 | PI=[0.5, 0.5]\n",
      "Bayes Risk: 0.0 | D=10 | PI=[0.5, 0.5]\n",
      "Bayes Risk: 0.0 | D=25 | PI=[0.5, 0.5]\n",
      "Bayes Risk: 0.0 | D=50 | PI=[0.5, 0.5]\n",
      "-----------------------------------------\n",
      "Bayes Risk: 0.242 | D=2 | PI=[0.1, 0.9]\n",
      "Bayes Risk: 0.0 | D=10 | PI=[0.1, 0.9]\n",
      "Bayes Risk: 0.0 | D=25 | PI=[0.1, 0.9]\n",
      "Bayes Risk: 0.0 | D=50 | PI=[0.1, 0.9]\n",
      "-----------------------------------------\n"
     ]
    }
   ],
   "source": [
    "for pi in [pi1, pi2]:\n",
    "    for d in D:\n",
    "        bayesRisk(pi, d)\n",
    "    print('-----------------------------------------')"
   ]
  },
  {
   "cell_type": "markdown",
   "metadata": {},
   "source": [
    "#### (b) : Linear/Quadratic Discriminant Analysis"
   ]
  },
  {
   "cell_type": "code",
   "execution_count": 9,
   "metadata": {},
   "outputs": [],
   "source": [
    "def LQDA(d, algo='LDA'):\n",
    "    X_train, Y_train, X_test, Y_test, PARAMS = gen_data(d)\n",
    "    \n",
    "    N = len(Y_train)\n",
    "    N0 = np.sum(Y_train == 0)\n",
    "    N1 = np.sum(Y_train == 1)\n",
    "    \n",
    "    X0 = X_train[Y_train==0]\n",
    "    X1 = X_train[Y_train==1]\n",
    "\n",
    "    #parameters estimation\n",
    "    pi0_est= N0/N\n",
    "    pi1_est = 1-pi0_est\n",
    "\n",
    "    mu0_est = np.sum(X0, axis=0)/N0\n",
    "    mu1_est = np.sum(X1, axis=0)/N1\n",
    "    \n",
    "    cov0_est = np.dot((X0-mu0_est).T, X0 - mu0_est)/N0\n",
    "    cov1_est = np.dot((X1-mu1_est).T, X1 - mu1_est)/N1\n",
    "    \n",
    "    if algo=='LDA':\n",
    "        cov_est = pi0_est*cov0_est + pi1_est*cov1_est        #weighted combination of covariances\n",
    "        \n",
    "        train_pred = []\n",
    "        for i in range(N):\n",
    "            pred = bayesClassifier(X_train[i], [pi0_est, pi1_est], [mu0_est, cov_est, mu1_est, cov_est])\n",
    "            train_pred.append(pred)\n",
    "        train_err = np.mean(train_pred != Y_train)\n",
    "\n",
    "        test_pred = []\n",
    "        for i in range(N):\n",
    "            pred = bayesClassifier(X_test[i], [pi0_est, pi1_est], [mu0_est, cov_est, mu1_est, cov_est])\n",
    "            test_pred.append(pred)\n",
    "        test_err= np.mean(test_pred != Y_test)\n",
    "        \n",
    "        print('Missclasification Rate- TRAIN:{} | TEST:{} | D:{}'.format(train_err, test_err, d))\n",
    "        return train_err, test_err\n",
    "    \n",
    "    elif algo == 'QDA':\n",
    "        train_pred = []\n",
    "        for i in range(N):\n",
    "            pred = bayesClassifier(X_train[i], [pi0_est, pi1_est], [mu0_est, cov0_est, mu1_est, cov1_est])\n",
    "            train_pred.append(pred)\n",
    "        train_err = np.mean(train_pred != Y_train)\n",
    "\n",
    "        test_pred = []\n",
    "        for i in range(N):\n",
    "            pred = bayesClassifier(X_test[i], [pi0_est, pi1_est], [mu0_est, cov0_est, mu1_est, cov1_est])\n",
    "            test_pred.append(pred)\n",
    "        test_err= np.mean(test_pred != Y_test)\n",
    "        print('Missclasification Rate- TRAIN:{} | TEST:{} | D:{}'.format(train_err, test_err, d))\n",
    "        return train_err, test_err\n"
   ]
  },
  {
   "cell_type": "code",
   "execution_count": 10,
   "metadata": {},
   "outputs": [
    {
     "name": "stdout",
     "output_type": "stream",
     "text": [
      "Missclasification Rate- TRAIN:0.155 | TEST:1.0 | D:2\n",
      "Missclasification Rate- TRAIN:0.0 | TEST:1.0 | D:10\n",
      "Missclasification Rate- TRAIN:0.0 | TEST:1.0 | D:25\n",
      "Missclasification Rate- TRAIN:0.0 | TEST:1.0 | D:50\n"
     ]
    }
   ],
   "source": [
    "# Linear Discriminant Analysis\n",
    "for d in D:\n",
    "    LQDA(d, algo='LDA')"
   ]
  },
  {
   "cell_type": "code",
   "execution_count": 11,
   "metadata": {},
   "outputs": [
    {
     "name": "stdout",
     "output_type": "stream",
     "text": [
      "Missclasification Rate- TRAIN:0.17 | TEST:1.0 | D:2\n",
      "Missclasification Rate- TRAIN:0.0 | TEST:1.0 | D:10\n",
      "Missclasification Rate- TRAIN:0.0 | TEST:1.0 | D:25\n",
      "Missclasification Rate- TRAIN:0.0 | TEST:1.0 | D:50\n"
     ]
    }
   ],
   "source": [
    "#Quadratic Discriminant Analysis\n",
    "for d in D:\n",
    "    LQDA(d, algo='QDA')"
   ]
  },
  {
   "cell_type": "markdown",
   "metadata": {},
   "source": [
    "#### (c) : Kernel Discriminant Analysis"
   ]
  },
  {
   "cell_type": "code",
   "execution_count": 12,
   "metadata": {},
   "outputs": [],
   "source": [
    "def KDEstimate(d, KERNEL):\n",
    "    X_train, Y_train, X_test, Y_test, PARAMS = gen_data(d)\n",
    "    mean = np.zeros(d)\n",
    "    cov = np.identity(d)    \n",
    "    \n",
    "    N = len(Y_train)\n",
    "    N_test = len(Y_test)\n",
    "    N0 = np.sum(Y_train == 0)\n",
    "    N1 = np.sum(Y_train == 1)\n",
    "    \n",
    "    X0 = X_train[Y_train==0]\n",
    "    X1 = X_train[Y_train==1]\n",
    "\n",
    "    #parameters estimation\n",
    "    pi0_est= N0/N\n",
    "    pi1_est = 1-pi0_est\n",
    "    \n",
    "    \n",
    "    time1 = time.time()\n",
    "    \n",
    "    ## estimating f0\n",
    "    X0mean = np.mean(X0, axis=0)   \n",
    "    Z = X0 - X0mean                   #adaptive h using distances between x_i and their mean\n",
    "    H = np.sum(Z**2, axis=1)**(0.5)\n",
    "    f0_est = np.zeros(N_test)\n",
    "    for i in range(N_test):\n",
    "        Z_i = (X0 - X_test[i])/H.reshape(-1,1)\n",
    "        if KERNEL == 'gaussian':\n",
    "            arr = 1/(H**d) * multivariate_normal.pdf(Z_i, mean, cov)\n",
    "        elif KERNEL == 'uniform':#kernel is identity basically\n",
    "            arr = 1/(H**d)\n",
    "        f0_est[i] = np.mean(arr)\n",
    "\n",
    "    ## estimating f1\n",
    "    X1mean = np.mean(X1, axis=0)   \n",
    "    Z = X1 - X1mean                   #adaptive h using distances between x_i and their mean\n",
    "    H = np.sum(Z**2, axis=1)**(0.5)\n",
    "    f1_est = np.zeros(N_test)\n",
    "    for i in range(N_test):\n",
    "        Z_i = (X1 - X_test[i])/H.reshape(-1,1)\n",
    "        if KERNEL == 'gaussian':\n",
    "            arr = 1/(H**d) * multivariate_normal.pdf(Z_i, mean, cov)\n",
    "        elif KERNEL == 'uniform':#kernel is identity basically\n",
    "            arr = 1/(H**d)\n",
    "        f1_est[i] = np.mean(arr)\n",
    "    \n",
    "    time2 = time.time() - time1\n",
    "\n",
    "    #misclassification test error\n",
    "    Y_pred = []\n",
    "    for i in range(N_test):\n",
    "        if pi0_est*f0_est[i] > pi1_est*f1_est[i]:\n",
    "            Y_pred.append(0)\n",
    "        else:\n",
    "            Y_pred.append(1)\n",
    "    \n",
    "    missclass_err = np.mean(Y_test != Y_pred)\n",
    "    print(\"Test Missclassification Rate: {} | D={} | {}s | KERNEL:{}\".format(missclass_err, d, round(time.time()-time1, 3), KERNEL))"
   ]
  },
  {
   "cell_type": "code",
   "execution_count": 13,
   "metadata": {},
   "outputs": [
    {
     "name": "stdout",
     "output_type": "stream",
     "text": [
      "Test Missclassification Rate: 0.146 | D=2 | 0.191s | KERNEL:gaussian\n",
      "Test Missclassification Rate: 0.0 | D=10 | 0.209s | KERNEL:gaussian\n",
      "Test Missclassification Rate: 0.0 | D=25 | 0.275s | KERNEL:gaussian\n",
      "Test Missclassification Rate: 0.0 | D=50 | 1.699s | KERNEL:gaussian\n",
      "--------------------------------\n",
      "Test Missclassification Rate: 0.5 | D=2 | 0.022s | KERNEL:uniform\n",
      "Test Missclassification Rate: 0.5 | D=10 | 0.033s | KERNEL:uniform\n",
      "Test Missclassification Rate: 0.5 | D=25 | 0.039s | KERNEL:uniform\n",
      "Test Missclassification Rate: 0.5 | D=50 | 0.05s | KERNEL:uniform\n",
      "--------------------------------\n"
     ]
    }
   ],
   "source": [
    "for kernel in ['gaussian', 'uniform']:\n",
    "    for d in D:\n",
    "        KDEstimate(d, kernel)\n",
    "    print('--------------------------------')"
   ]
  },
  {
   "cell_type": "markdown",
   "metadata": {},
   "source": [
    "#### (d) : K-Nearest Neighbors"
   ]
  },
  {
   "cell_type": "code",
   "execution_count": 14,
   "metadata": {},
   "outputs": [],
   "source": [
    "def plotit(k, y, xlab, ylab, tit):\n",
    "    plt.plot(k, y, 'o-')\n",
    "    plt.xlabel(xlab)\n",
    "    plt.ylabel(ylab)\n",
    "    plt.title(tit)\n",
    "    plt.show()"
   ]
  },
  {
   "cell_type": "code",
   "execution_count": 24,
   "metadata": {},
   "outputs": [],
   "source": [
    "from sklearn.neighbors import KNeighborsClassifier\n",
    "from sklearn.model_selection import cross_val_score\n",
    "\n",
    "def kNNClassify(k, d):\n",
    "    X_train, Y_train, X_test, Y_test, PARAMS = gen_data(d)\n",
    "    clf = KNeighborsClassifier(n_neighbors=k, p=2)\n",
    "    clf.fit(X_train, Y_train)\n",
    "    \n",
    "    train_err = round(1 - clf.score(X_train, Y_train), 3)\n",
    "    test_err = round(1 - clf.score(X_test, Y_test), 3)\n",
    "    loocv_err = 1 - np.mean(cross_val_score(clf, X_train, Y_train, cv=sum(Y_train==1)))\n",
    "    \n",
    "#     print('Missclasification Rate- TRAIN:{} | TEST:{} | D:{}'.format(train_err, test_err, d))\n",
    "#     print('Missclasification Rate LOOCV- {} | D:{}'.format(loocv_err, d))\n",
    "    return train_err, test_err, loocv_err"
   ]
  },
  {
   "cell_type": "code",
   "execution_count": 25,
   "metadata": {},
   "outputs": [],
   "source": [
    "K = [2,5,10,20,40,80]\n",
    "d = 2\n",
    "train_err = []\n",
    "test_err = []\n",
    "loocv_err = []\n",
    "for k in K:\n",
    "    clf = kNNClassify(k,d)\n",
    "    train_err.append(clf[0])\n",
    "    test_err.append(clf[1])\n",
    "    loocv_err.append(clf[2])"
   ]
  },
  {
   "cell_type": "code",
   "execution_count": 26,
   "metadata": {},
   "outputs": [
    {
     "data": {
      "image/png": "[encoded data removed]",
      "text/plain": [
       "<Figure size 432x288 with 1 Axes>"
      ]
     },
     "metadata": {
      "needs_background": "light"
     },
     "output_type": "display_data"
    }
   ],
   "source": [
    "plotit(K,train_err,'k','Train MisclassificationRate','Train vs k')"
   ]
  },
  {
   "cell_type": "code",
   "execution_count": 27,
   "metadata": {},
   "outputs": [
    {
     "data": {
      "image/png": "[encoded data removed]",
      "text/plain": [
       "<Figure size 432x288 with 1 Axes>"
      ]
     },
     "metadata": {
      "needs_background": "light"
     },
     "output_type": "display_data"
    }
   ],
   "source": [
    "plotit(K,test_err,'k','Test MisclassificationRate','Test vs k')"
   ]
  },
  {
   "cell_type": "code",
   "execution_count": 23,
   "metadata": {},
   "outputs": [
    {
     "data": {
      "image/png": "[encoded data removed]",
      "text/plain": [
       "<Figure size 432x288 with 1 Axes>"
      ]
     },
     "metadata": {
      "needs_background": "light"
     },
     "output_type": "display_data"
    }
   ],
   "source": [
    "plotit(K,loocv_err,'k','LOOCV MisclassificationRate','LOOCV vs k')"
   ]
  },
  {
   "cell_type": "markdown",
   "metadata": {},
   "source": [
    "#### (e) : Least Squares Regression with Response Variables"
   ]
  },
  {
   "cell_type": "code",
   "execution_count": 43,
   "metadata": {},
   "outputs": [],
   "source": [
    "def responseClassify(d):\n",
    "    X_train, Y_train, X_test, Y_test, PARAMS = gen_data(d)\n",
    "    N = len(Y_train)\n",
    "    N0 = np.sum(Y_train == 0)\n",
    "    N1 = np.sum(Y_train == 1)\n",
    "    \n",
    "    Yresp = [-N/N0 if y==0 else N/N1 for y in Y_train]\n",
    "    alpha = np.dot(np.linalg.inv(np.dot(X_train.T, X_train)), np.dot(X_train.T, Yresp))\n",
    "    Ypred_train = np.dot(X_train, alpha)\n",
    "    Ypred_test = np.dot(X_test, alpha)\n",
    "    \n",
    "    Ypred_train_clf = [0 if y<0 else 1 for y in Ypred_train]\n",
    "    Ypred_test_clf = [0 if y<0 else 1 for y in Ypred_test]\n",
    "    \n",
    "    train_err = np.mean(Y_train != Ypred_train_clf)\n",
    "    test_err = np.mean(Y_test != Ypred_test_clf)\n",
    "    print('Missclasification Rate- TRAIN:{} | TEST:{} | D:{}'.format(round(train_err,3), round(test_err,3), d))"
   ]
  },
  {
   "cell_type": "code",
   "execution_count": 44,
   "metadata": {},
   "outputs": [
    {
     "name": "stdout",
     "output_type": "stream",
     "text": [
      "Missclasification Rate- TRAIN:0.235 | TEST:0.252 | D:2\n",
      "Missclasification Rate- TRAIN:0.22 | TEST:0.254 | D:10\n",
      "Missclasification Rate- TRAIN:0.17 | TEST:0.252 | D:25\n",
      "Missclasification Rate- TRAIN:0.08 | TEST:0.26 | D:50\n"
     ]
    }
   ],
   "source": [
    "for d in [2,10,25,50]:\n",
    "    responseClassify(d)"
   ]
  },
  {
   "cell_type": "markdown",
   "metadata": {},
   "source": [
    "#### (f) : Logistic Discriminant Analysis"
   ]
  },
  {
   "cell_type": "code",
   "execution_count": 45,
   "metadata": {},
   "outputs": [],
   "source": [
    "from sklearn.linear_model import LogisticRegression\n",
    "\n",
    "def logClassify(d):\n",
    "    X_train, Y_train, X_test, Y_test, PARAMS = gen_data(d)\n",
    "    clf = LogisticRegression()\n",
    "    clf.fit(X_train, Y_train)\n",
    "    \n",
    "    train_err = 1 - clf.score(X_train, Y_train)\n",
    "    test_err = 1 - clf.score(X_test, Y_test)\n",
    "    print('Missclasification Rate- TRAIN:{} | TEST:{} | D:{}'.format(round(train_err,3), round(test_err,3), d))\n"
   ]
  },
  {
   "cell_type": "code",
   "execution_count": 46,
   "metadata": {},
   "outputs": [
    {
     "name": "stdout",
     "output_type": "stream",
     "text": [
      "Missclasification Rate- TRAIN:0.16 | TEST:0.166 | D:2\n",
      "Missclasification Rate- TRAIN:0.0 | TEST:0.0 | D:10\n",
      "Missclasification Rate- TRAIN:0.0 | TEST:0.0 | D:25\n",
      "Missclasification Rate- TRAIN:0.0 | TEST:0.0 | D:50\n"
     ]
    }
   ],
   "source": [
    "for d in [2,10,25,50]:\n",
    "    logClassify(d)"
   ]
  },
  {
   "cell_type": "markdown",
   "metadata": {},
   "source": [
    "#### (g) : Support Vector Machine"
   ]
  },
  {
   "cell_type": "code",
   "execution_count": 47,
   "metadata": {},
   "outputs": [],
   "source": [
    "from sklearn.svm import SVC\n",
    "\n",
    "def svmClassify(d, KERNEL):\n",
    "    X_train, Y_train, X_test, Y_test, PARAMS = gen_data(d)\n",
    "    clf = SVC(kernel=KERNEL, degree=2) # if poly is chosed degree=2 for quadratic\n",
    "    clf.fit(X_train, Y_train)\n",
    "    \n",
    "    train_err = 1 - clf.score(X_train, Y_train)\n",
    "    test_err = 1 - clf.score(X_test, Y_test)\n",
    "    print('Missclasification Rate- TRAIN:{} | TEST:{} | D:{} | KERNEL:{}'.format(round(train_err,3), round(test_err,3), d, KERNEL))"
   ]
  },
  {
   "cell_type": "code",
   "execution_count": 48,
   "metadata": {},
   "outputs": [
    {
     "name": "stdout",
     "output_type": "stream",
     "text": [
      "Missclasification Rate- TRAIN:0.155 | TEST:0.158 | D:2 | KERNEL:linear\n",
      "Missclasification Rate- TRAIN:0.0 | TEST:0.0 | D:10 | KERNEL:linear\n",
      "Missclasification Rate- TRAIN:0.0 | TEST:0.0 | D:25 | KERNEL:linear\n",
      "Missclasification Rate- TRAIN:0.0 | TEST:0.0 | D:50 | KERNEL:linear\n",
      "--------------------------------------------\n",
      "Missclasification Rate- TRAIN:0.225 | TEST:0.25 | D:2 | KERNEL:poly\n",
      "Missclasification Rate- TRAIN:0.0 | TEST:0.0 | D:10 | KERNEL:poly\n",
      "Missclasification Rate- TRAIN:0.0 | TEST:0.0 | D:25 | KERNEL:poly\n",
      "Missclasification Rate- TRAIN:0.0 | TEST:0.0 | D:50 | KERNEL:poly\n",
      "--------------------------------------------\n",
      "Missclasification Rate- TRAIN:0.13 | TEST:0.146 | D:2 | KERNEL:rbf\n",
      "Missclasification Rate- TRAIN:0.0 | TEST:0.0 | D:10 | KERNEL:rbf\n",
      "Missclasification Rate- TRAIN:0.0 | TEST:0.0 | D:25 | KERNEL:rbf\n",
      "Missclasification Rate- TRAIN:0.0 | TEST:0.0 | D:50 | KERNEL:rbf\n",
      "--------------------------------------------\n"
     ]
    }
   ],
   "source": [
    "for kernel in ['linear', 'poly', 'rbf']:\n",
    "    for d in [2,10,25,50]:\n",
    "        svmClassify(d, KERNEL=kernel)\n",
    "    print('--------------------------------------------')"
   ]
  },
  {
   "cell_type": "code",
   "execution_count": null,
   "metadata": {},
   "outputs": [],
   "source": []
  }
 ],
 "metadata": {
  "kernelspec": {
   "display_name": "Python 3",
   "language": "python",
   "name": "python3"
  },
  "language_info": {
   "codemirror_mode": {
    "name": "ipython",
    "version": 3
   },
   "file_extension": ".py",
   "mimetype": "text/x-python",
   "name": "python",
   "nbconvert_exporter": "python",
   "pygments_lexer": "ipython3",
   "version": "3.6.8"
  }
 },
 "nbformat": 4,
 "nbformat_minor": 4
}
