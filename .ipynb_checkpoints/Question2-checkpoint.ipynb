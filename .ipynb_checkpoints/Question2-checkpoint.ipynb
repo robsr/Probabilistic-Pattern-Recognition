{
 "cells": [
  {
   "cell_type": "markdown",
   "metadata": {},
   "source": [
    "## Part (a)"
   ]
  },
  {
   "cell_type": "code",
   "execution_count": 1,
   "metadata": {},
   "outputs": [],
   "source": [
    "import numpy as np\n",
    "import pandas as pd\n",
    "import math\n",
    "from scipy.stats import multivariate_normal\n",
    "import matplotlib.pyplot as plt\n",
    "import matplotlib\n",
    "import seaborn as sns\n",
    "import time\n",
    "import warnings\n",
    "\n",
    "sns.set_style('darkgrid')\n",
    "warnings.filterwarnings('ignore')\n",
    "matplotlib.rcParams['figure.figsize'] = [8, 5]"
   ]
  },
  {
   "cell_type": "code",
   "execution_count": 2,
   "metadata": {},
   "outputs": [],
   "source": [
    "def KDEstimate(d):\n",
    "    mean = np.zeros(d)\n",
    "    cov = np.identity(d)\n",
    "    X = np.random.multivariate_normal(mean, cov, size=20)\n",
    "    N = 100\n",
    "    X_test = np.random.uniform(low=-5, high=+5, size=(N,d))\n",
    "    \n",
    "    #density estimation    \n",
    "    H = np.sum(X**2, axis=1)**(0.5)      #distances from mean([0,0])\n",
    "    print(H.shape)\n",
    "    f_est = np.zeros(N)\n",
    "    for i in range(N):\n",
    "        Z_i = (X - X_test[i])/(H.reshape(-1,1))\n",
    "        arr = 1/(H**d) * multivariate_normal.cdf(Z_i, mean, cov)\n",
    "#         print(Z_i.shape, arr.shape)\n",
    "#         break\n",
    "        f_est[i] = np.mean(arr)    \n",
    "    return X_test, f_est"
   ]
  },
  {
   "cell_type": "code",
   "execution_count": 21,
   "metadata": {},
   "outputs": [
    {
     "name": "stdout",
     "output_type": "stream",
     "text": [
      "(20,)\n"
     ]
    },
    {
     "data": {
      "text/plain": [
       "[<matplotlib.lines.Line2D at 0x2bde1074048>]"
      ]
     },
     "execution_count": 21,
     "metadata": {},
     "output_type": "execute_result"
    },
    {
     "data": {
      "image/png": "[encoded data removed]",
      "text/plain": [
       "<Figure size 432x288 with 1 Axes>"
      ]
     },
     "metadata": {
      "needs_background": "light"
     },
     "output_type": "display_data"
    }
   ],
   "source": [
    "#d=1\n",
    "X_test, f_est = KDEstimate(d=1)\n",
    "plt.plot(X_test, f_est, '*')"
   ]
  },
  {
   "cell_type": "code",
   "execution_count": 3,
   "metadata": {},
   "outputs": [
    {
     "name": "stdout",
     "output_type": "stream",
     "text": [
      "Time Taken for d=2 : 0.325s\n",
      "Time Taken for d=5 : 2.832s\n",
      "Time Taken for d=10 : 44.639s\n",
      "Time Taken for d=20 : 145.324s\n"
     ]
    },
    {
     "ename": "KeyboardInterrupt",
     "evalue": "",
     "output_type": "error",
     "traceback": [
      "\u001b[1;31m---------------------------------------------------------------------------\u001b[0m",
      "\u001b[1;31mKeyboardInterrupt\u001b[0m                         Traceback (most recent call last)",
      "\u001b[1;32m<ipython-input-3-4ba98201461b>\u001b[0m in \u001b[0;36m<module>\u001b[1;34m\u001b[0m\n\u001b[0;32m      2\u001b[0m \u001b[1;32mfor\u001b[0m \u001b[0md\u001b[0m \u001b[1;32min\u001b[0m \u001b[0mD\u001b[0m\u001b[1;33m:\u001b[0m\u001b[1;33m\u001b[0m\u001b[1;33m\u001b[0m\u001b[0m\n\u001b[0;32m      3\u001b[0m     \u001b[0mtimeit\u001b[0m \u001b[1;33m=\u001b[0m \u001b[0mtime\u001b[0m\u001b[1;33m.\u001b[0m\u001b[0mtime\u001b[0m\u001b[1;33m(\u001b[0m\u001b[1;33m)\u001b[0m\u001b[1;33m\u001b[0m\u001b[1;33m\u001b[0m\u001b[0m\n\u001b[1;32m----> 4\u001b[1;33m     \u001b[0mX_plot\u001b[0m\u001b[1;33m,\u001b[0m \u001b[0mpdfEST\u001b[0m \u001b[1;33m=\u001b[0m \u001b[0mKDEstimate\u001b[0m\u001b[1;33m(\u001b[0m\u001b[0md\u001b[0m\u001b[1;33m)\u001b[0m\u001b[1;33m\u001b[0m\u001b[1;33m\u001b[0m\u001b[0m\n\u001b[0m\u001b[0;32m      5\u001b[0m     \u001b[0mprint\u001b[0m\u001b[1;33m(\u001b[0m\u001b[1;34m\"Time Taken for d={} : {}s\"\u001b[0m\u001b[1;33m.\u001b[0m\u001b[0mformat\u001b[0m\u001b[1;33m(\u001b[0m\u001b[0md\u001b[0m\u001b[1;33m,\u001b[0m \u001b[0mnp\u001b[0m\u001b[1;33m.\u001b[0m\u001b[0mround\u001b[0m\u001b[1;33m(\u001b[0m\u001b[0mtime\u001b[0m\u001b[1;33m.\u001b[0m\u001b[0mtime\u001b[0m\u001b[1;33m(\u001b[0m\u001b[1;33m)\u001b[0m\u001b[1;33m-\u001b[0m\u001b[0mtimeit\u001b[0m\u001b[1;33m,\u001b[0m\u001b[1;36m3\u001b[0m\u001b[1;33m)\u001b[0m\u001b[1;33m)\u001b[0m\u001b[1;33m)\u001b[0m\u001b[1;33m\u001b[0m\u001b[1;33m\u001b[0m\u001b[0m\n",
      "\u001b[1;32m<ipython-input-2-e0c433f2558b>\u001b[0m in \u001b[0;36mKDEstimate\u001b[1;34m(d)\u001b[0m\n\u001b[0;32m     11\u001b[0m     \u001b[1;32mfor\u001b[0m \u001b[0mi\u001b[0m \u001b[1;32min\u001b[0m \u001b[0mrange\u001b[0m\u001b[1;33m(\u001b[0m\u001b[0mN\u001b[0m\u001b[1;33m)\u001b[0m\u001b[1;33m:\u001b[0m\u001b[1;33m\u001b[0m\u001b[1;33m\u001b[0m\u001b[0m\n\u001b[0;32m     12\u001b[0m         \u001b[0mZ_i\u001b[0m \u001b[1;33m=\u001b[0m \u001b[1;33m(\u001b[0m\u001b[0mX_test\u001b[0m\u001b[1;33m[\u001b[0m\u001b[0mi\u001b[0m\u001b[1;33m]\u001b[0m \u001b[1;33m-\u001b[0m \u001b[0mX\u001b[0m\u001b[1;33m)\u001b[0m\u001b[1;33m/\u001b[0m\u001b[1;33m(\u001b[0m\u001b[0mH\u001b[0m\u001b[1;33m.\u001b[0m\u001b[0mreshape\u001b[0m\u001b[1;33m(\u001b[0m\u001b[1;33m-\u001b[0m\u001b[1;36m1\u001b[0m\u001b[1;33m,\u001b[0m\u001b[1;36m1\u001b[0m\u001b[1;33m)\u001b[0m\u001b[1;33m)\u001b[0m\u001b[1;33m\u001b[0m\u001b[1;33m\u001b[0m\u001b[0m\n\u001b[1;32m---> 13\u001b[1;33m         \u001b[0marr\u001b[0m \u001b[1;33m=\u001b[0m \u001b[1;36m1\u001b[0m\u001b[1;33m/\u001b[0m\u001b[1;33m(\u001b[0m\u001b[0mH\u001b[0m\u001b[1;33m**\u001b[0m\u001b[0md\u001b[0m\u001b[1;33m)\u001b[0m \u001b[1;33m*\u001b[0m \u001b[0mmultivariate_normal\u001b[0m\u001b[1;33m.\u001b[0m\u001b[0mcdf\u001b[0m\u001b[1;33m(\u001b[0m\u001b[0mZ_i\u001b[0m\u001b[1;33m,\u001b[0m \u001b[0mmean\u001b[0m\u001b[1;33m,\u001b[0m \u001b[0mcov\u001b[0m\u001b[1;33m)\u001b[0m\u001b[1;33m\u001b[0m\u001b[1;33m\u001b[0m\u001b[0m\n\u001b[0m\u001b[0;32m     14\u001b[0m         \u001b[0mf_est\u001b[0m\u001b[1;33m[\u001b[0m\u001b[0mi\u001b[0m\u001b[1;33m]\u001b[0m \u001b[1;33m=\u001b[0m \u001b[0mnp\u001b[0m\u001b[1;33m.\u001b[0m\u001b[0mmean\u001b[0m\u001b[1;33m(\u001b[0m\u001b[0marr\u001b[0m\u001b[1;33m)\u001b[0m\u001b[1;33m\u001b[0m\u001b[1;33m\u001b[0m\u001b[0m\n\u001b[0;32m     15\u001b[0m     \u001b[1;32mreturn\u001b[0m \u001b[0mX_test\u001b[0m\u001b[1;33m,\u001b[0m \u001b[0mf_est\u001b[0m\u001b[1;33m\u001b[0m\u001b[1;33m\u001b[0m\u001b[0m\n",
      "\u001b[1;32mc:\\users\\robin\\appdata\\local\\programs\\python\\python36\\lib\\site-packages\\scipy\\stats\\_multivariate.py\u001b[0m in \u001b[0;36mcdf\u001b[1;34m(self, x, mean, cov, allow_singular, maxpts, abseps, releps)\u001b[0m\n\u001b[0;32m    630\u001b[0m         \u001b[1;32mif\u001b[0m \u001b[1;32mnot\u001b[0m \u001b[0mmaxpts\u001b[0m\u001b[1;33m:\u001b[0m\u001b[1;33m\u001b[0m\u001b[1;33m\u001b[0m\u001b[0m\n\u001b[0;32m    631\u001b[0m             \u001b[0mmaxpts\u001b[0m \u001b[1;33m=\u001b[0m \u001b[1;36m1000000\u001b[0m \u001b[1;33m*\u001b[0m \u001b[0mdim\u001b[0m\u001b[1;33m\u001b[0m\u001b[1;33m\u001b[0m\u001b[0m\n\u001b[1;32m--> 632\u001b[1;33m         \u001b[0mout\u001b[0m \u001b[1;33m=\u001b[0m \u001b[0mself\u001b[0m\u001b[1;33m.\u001b[0m\u001b[0m_cdf\u001b[0m\u001b[1;33m(\u001b[0m\u001b[0mx\u001b[0m\u001b[1;33m,\u001b[0m \u001b[0mmean\u001b[0m\u001b[1;33m,\u001b[0m \u001b[0mcov\u001b[0m\u001b[1;33m,\u001b[0m \u001b[0mmaxpts\u001b[0m\u001b[1;33m,\u001b[0m \u001b[0mabseps\u001b[0m\u001b[1;33m,\u001b[0m \u001b[0mreleps\u001b[0m\u001b[1;33m)\u001b[0m\u001b[1;33m\u001b[0m\u001b[1;33m\u001b[0m\u001b[0m\n\u001b[0m\u001b[0;32m    633\u001b[0m         \u001b[1;32mreturn\u001b[0m \u001b[0mout\u001b[0m\u001b[1;33m\u001b[0m\u001b[1;33m\u001b[0m\u001b[0m\n\u001b[0;32m    634\u001b[0m \u001b[1;33m\u001b[0m\u001b[0m\n",
      "\u001b[1;32mc:\\users\\robin\\appdata\\local\\programs\\python\\python36\\lib\\site-packages\\scipy\\stats\\_multivariate.py\u001b[0m in \u001b[0;36m_cdf\u001b[1;34m(self, x, mean, cov, maxpts, abseps, releps)\u001b[0m\n\u001b[0;32m    552\u001b[0m         func1d = lambda x_slice: mvn.mvnun(lower, x_slice, mean, cov,\n\u001b[0;32m    553\u001b[0m                                            maxpts, abseps, releps)[0]\n\u001b[1;32m--> 554\u001b[1;33m         \u001b[0mout\u001b[0m \u001b[1;33m=\u001b[0m \u001b[0mnp\u001b[0m\u001b[1;33m.\u001b[0m\u001b[0mapply_along_axis\u001b[0m\u001b[1;33m(\u001b[0m\u001b[0mfunc1d\u001b[0m\u001b[1;33m,\u001b[0m \u001b[1;33m-\u001b[0m\u001b[1;36m1\u001b[0m\u001b[1;33m,\u001b[0m \u001b[0mx\u001b[0m\u001b[1;33m)\u001b[0m\u001b[1;33m\u001b[0m\u001b[1;33m\u001b[0m\u001b[0m\n\u001b[0m\u001b[0;32m    555\u001b[0m         \u001b[1;32mreturn\u001b[0m \u001b[0m_squeeze_output\u001b[0m\u001b[1;33m(\u001b[0m\u001b[0mout\u001b[0m\u001b[1;33m)\u001b[0m\u001b[1;33m\u001b[0m\u001b[1;33m\u001b[0m\u001b[0m\n\u001b[0;32m    556\u001b[0m \u001b[1;33m\u001b[0m\u001b[0m\n",
      "\u001b[1;32mc:\\users\\robin\\appdata\\local\\programs\\python\\python36\\lib\\site-packages\\numpy\\lib\\shape_base.py\u001b[0m in \u001b[0;36mapply_along_axis\u001b[1;34m(func1d, axis, arr, *args, **kwargs)\u001b[0m\n\u001b[0;32m    401\u001b[0m     \u001b[0mbuff\u001b[0m\u001b[1;33m[\u001b[0m\u001b[0mind0\u001b[0m\u001b[1;33m]\u001b[0m \u001b[1;33m=\u001b[0m \u001b[0mres\u001b[0m\u001b[1;33m\u001b[0m\u001b[1;33m\u001b[0m\u001b[0m\n\u001b[0;32m    402\u001b[0m     \u001b[1;32mfor\u001b[0m \u001b[0mind\u001b[0m \u001b[1;32min\u001b[0m \u001b[0minds\u001b[0m\u001b[1;33m:\u001b[0m\u001b[1;33m\u001b[0m\u001b[1;33m\u001b[0m\u001b[0m\n\u001b[1;32m--> 403\u001b[1;33m         \u001b[0mbuff\u001b[0m\u001b[1;33m[\u001b[0m\u001b[0mind\u001b[0m\u001b[1;33m]\u001b[0m \u001b[1;33m=\u001b[0m \u001b[0masanyarray\u001b[0m\u001b[1;33m(\u001b[0m\u001b[0mfunc1d\u001b[0m\u001b[1;33m(\u001b[0m\u001b[0minarr_view\u001b[0m\u001b[1;33m[\u001b[0m\u001b[0mind\u001b[0m\u001b[1;33m]\u001b[0m\u001b[1;33m,\u001b[0m \u001b[1;33m*\u001b[0m\u001b[0margs\u001b[0m\u001b[1;33m,\u001b[0m \u001b[1;33m**\u001b[0m\u001b[0mkwargs\u001b[0m\u001b[1;33m)\u001b[0m\u001b[1;33m)\u001b[0m\u001b[1;33m\u001b[0m\u001b[1;33m\u001b[0m\u001b[0m\n\u001b[0m\u001b[0;32m    404\u001b[0m \u001b[1;33m\u001b[0m\u001b[0m\n\u001b[0;32m    405\u001b[0m     \u001b[1;32mif\u001b[0m \u001b[1;32mnot\u001b[0m \u001b[0misinstance\u001b[0m\u001b[1;33m(\u001b[0m\u001b[0mres\u001b[0m\u001b[1;33m,\u001b[0m \u001b[0mmatrix\u001b[0m\u001b[1;33m)\u001b[0m\u001b[1;33m:\u001b[0m\u001b[1;33m\u001b[0m\u001b[1;33m\u001b[0m\u001b[0m\n",
      "\u001b[1;32mc:\\users\\robin\\appdata\\local\\programs\\python\\python36\\lib\\site-packages\\scipy\\stats\\_multivariate.py\u001b[0m in \u001b[0;36m<lambda>\u001b[1;34m(x_slice)\u001b[0m\n\u001b[0;32m    551\u001b[0m         \u001b[1;31m# mvnun expects 1-d arguments, so process points sequentially\u001b[0m\u001b[1;33m\u001b[0m\u001b[1;33m\u001b[0m\u001b[1;33m\u001b[0m\u001b[0m\n\u001b[0;32m    552\u001b[0m         func1d = lambda x_slice: mvn.mvnun(lower, x_slice, mean, cov,\n\u001b[1;32m--> 553\u001b[1;33m                                            maxpts, abseps, releps)[0]\n\u001b[0m\u001b[0;32m    554\u001b[0m         \u001b[0mout\u001b[0m \u001b[1;33m=\u001b[0m \u001b[0mnp\u001b[0m\u001b[1;33m.\u001b[0m\u001b[0mapply_along_axis\u001b[0m\u001b[1;33m(\u001b[0m\u001b[0mfunc1d\u001b[0m\u001b[1;33m,\u001b[0m \u001b[1;33m-\u001b[0m\u001b[1;36m1\u001b[0m\u001b[1;33m,\u001b[0m \u001b[0mx\u001b[0m\u001b[1;33m)\u001b[0m\u001b[1;33m\u001b[0m\u001b[1;33m\u001b[0m\u001b[0m\n\u001b[0;32m    555\u001b[0m         \u001b[1;32mreturn\u001b[0m \u001b[0m_squeeze_output\u001b[0m\u001b[1;33m(\u001b[0m\u001b[0mout\u001b[0m\u001b[1;33m)\u001b[0m\u001b[1;33m\u001b[0m\u001b[1;33m\u001b[0m\u001b[0m\n",
      "\u001b[1;31mKeyboardInterrupt\u001b[0m: "
     ]
    }
   ],
   "source": [
    "D = [2,5,10,20,50,100,200,500]\n",
    "for d in D:\n",
    "    timeit = time.time()\n",
    "    X_plot, pdfEST = KDEstimate(d)\n",
    "    print(\"Time Taken for d={} : {}s\".format(d, np.round(time.time()-timeit,3)))"
   ]
  },
  {
   "cell_type": "code",
   "execution_count": null,
   "metadata": {},
   "outputs": [],
   "source": [
    "# X, Y = np.meshgrid(X_plot[:,0], X_plot[:,1])"
   ]
  },
  {
   "cell_type": "markdown",
   "metadata": {},
   "source": [
    "## Part 2"
   ]
  },
  {
   "cell_type": "code",
   "execution_count": 13,
   "metadata": {},
   "outputs": [],
   "source": [
    "def angle(v1, v2):\n",
    "     return math.acos(np.dot(v1, v2) / (len(v1) * len(v2)))\n",
    "    \n",
    "def gen_table(d):\n",
    "    mean = np.zeros(d)\n",
    "    cov = np.identity(d)\n",
    "    X = np.random.multivariate_normal(mean, cov, size=3)\n",
    "    angles = [angle(X[0],X[1]), angle(X[1],X[2]), angle(X[2],X[0])]\n",
    "    return angles"
   ]
  },
  {
   "cell_type": "code",
   "execution_count": 16,
   "metadata": {},
   "outputs": [
    {
     "data": {
      "image/png": "[encoded data removed]",
      "text/plain": [
       "<Figure size 432x288 with 1 Axes>"
      ]
     },
     "metadata": {
      "needs_background": "light"
     },
     "output_type": "display_data"
    }
   ],
   "source": [
    "D = [2,5,10,20,50,100,200,500]\n",
    "avg_angles = []\n",
    "final_table = pd.DataFrame(data=None, index=['<(1-2)', '<(2-3)', '<(3-1)'])\n",
    "for d in D:\n",
    "    final_table['angle(D='+str(d)+')'] = gen_table(d)\n",
    "    avg_angles.append(np.mean(gen_table(d)))\n",
    "plt.plot(D, avg_angles, 'o-')\n",
    "plt.title('Angle vs d')\n",
    "plt.xlabel('d')\n",
    "plt.ylabel('Angle(in Radian)')\n",
    "plt.show()"
   ]
  },
  {
   "cell_type": "code",
   "execution_count": 18,
   "metadata": {},
   "outputs": [
    {
     "data": {
      "text/html": [
       "<div>\n",
       "<style scoped>\n",
       "    .dataframe tbody tr th:only-of-type {\n",
       "        vertical-align: middle;\n",
       "    }\n",
       "\n",
       "    .dataframe tbody tr th {\n",
       "        vertical-align: top;\n",
       "    }\n",
       "\n",
       "    .dataframe thead th {\n",
       "        text-align: right;\n",
       "    }\n",
       "</style>\n",
       "<table border=\"1\" class=\"dataframe\">\n",
       "  <thead>\n",
       "    <tr style=\"text-align: right;\">\n",
       "      <th></th>\n",
       "      <th>angle(D=2)</th>\n",
       "      <th>angle(D=5)</th>\n",
       "      <th>angle(D=10)</th>\n",
       "      <th>angle(D=20)</th>\n",
       "      <th>angle(D=50)</th>\n",
       "      <th>angle(D=100)</th>\n",
       "      <th>angle(D=200)</th>\n",
       "      <th>angle(D=500)</th>\n",
       "    </tr>\n",
       "  </thead>\n",
       "  <tbody>\n",
       "    <tr>\n",
       "      <th>&lt;(1-2)</th>\n",
       "      <td>1.722667</td>\n",
       "      <td>1.591111</td>\n",
       "      <td>1.629958</td>\n",
       "      <td>1.574962</td>\n",
       "      <td>1.573071</td>\n",
       "      <td>1.572486</td>\n",
       "      <td>1.570716</td>\n",
       "      <td>1.570846</td>\n",
       "    </tr>\n",
       "    <tr>\n",
       "      <th>&lt;(2-3)</th>\n",
       "      <td>1.047607</td>\n",
       "      <td>1.619778</td>\n",
       "      <td>1.518473</td>\n",
       "      <td>1.580475</td>\n",
       "      <td>1.570510</td>\n",
       "      <td>1.571517</td>\n",
       "      <td>1.570718</td>\n",
       "      <td>1.570646</td>\n",
       "    </tr>\n",
       "    <tr>\n",
       "      <th>&lt;(3-1)</th>\n",
       "      <td>1.771501</td>\n",
       "      <td>1.442730</td>\n",
       "      <td>1.622724</td>\n",
       "      <td>1.568613</td>\n",
       "      <td>1.573930</td>\n",
       "      <td>1.570736</td>\n",
       "      <td>1.570896</td>\n",
       "      <td>1.570660</td>\n",
       "    </tr>\n",
       "  </tbody>\n",
       "</table>\n",
       "</div>"
      ],
      "text/plain": [
       "        angle(D=2)  angle(D=5)  angle(D=10)  angle(D=20)  angle(D=50)  \\\n",
       "<(1-2)    1.722667    1.591111     1.629958     1.574962     1.573071   \n",
       "<(2-3)    1.047607    1.619778     1.518473     1.580475     1.570510   \n",
       "<(3-1)    1.771501    1.442730     1.622724     1.568613     1.573930   \n",
       "\n",
       "        angle(D=100)  angle(D=200)  angle(D=500)  \n",
       "<(1-2)      1.572486      1.570716      1.570846  \n",
       "<(2-3)      1.571517      1.570718      1.570646  \n",
       "<(3-1)      1.570736      1.570896      1.570660  "
      ]
     },
     "execution_count": 18,
     "metadata": {},
     "output_type": "execute_result"
    }
   ],
   "source": [
    "final_table"
   ]
  },
  {
   "cell_type": "markdown",
   "metadata": {},
   "source": [
    "## Part 3"
   ]
  },
  {
   "cell_type": "code",
   "execution_count": 284,
   "metadata": {},
   "outputs": [],
   "source": [
    "from sklearn.neighbors import KNeighborsClassifier\n",
    "from sklearn.discriminant_analysis import QuadraticDiscriminantAnalysis\n",
    "from sklearn.svm import SVC\n",
    "from sklearn.naive_bayes import GaussianNB"
   ]
  },
  {
   "cell_type": "code",
   "execution_count": 302,
   "metadata": {},
   "outputs": [],
   "source": [
    "def plotit(D, error):\n",
    "    alpha_ = 0.8\n",
    "    plt.plot(D, error[0], 'o-', label='1NN', alpha=alpha_)\n",
    "    plt.plot(D, error[1], 'o-', label='KDA', alpha=alpha_)\n",
    "    plt.plot(D, error[2], 'o-', label='SVM_linear', alpha=alpha_)\n",
    "    plt.plot(D, error[3], 'o-', label='SVM_rbf', alpha=alpha_)\n",
    "    plt.plot(D, error[4], 'o-', label='GNB', alpha=alpha_)\n",
    "    plt.xlabel('d');plt.ylabel('Misclassification Rate', alpha=alpha_)\n",
    "    plt.legend()\n",
    "    plt.show()"
   ]
  },
  {
   "cell_type": "code",
   "execution_count": 303,
   "metadata": {},
   "outputs": [],
   "source": [
    "D = [2,5,10,20,50,100,200,500]"
   ]
  },
  {
   "cell_type": "markdown",
   "metadata": {},
   "source": [
    "### 3.1"
   ]
  },
  {
   "cell_type": "code",
   "execution_count": 304,
   "metadata": {},
   "outputs": [],
   "source": [
    "def classify1(d):\n",
    "    mu0, cov0 = np.zeros(d), np.identity(d)\n",
    "    mu1, cov1 = np.append(np.array([1]), np.zeros(d-1)), 0.25*np.identity(d)\n",
    "    \n",
    "    X0 = np.random.multivariate_normal(mu0, cov0, size=10)\n",
    "    Y0 = np.zeros(10)\n",
    "    X1 = np.random.multivariate_normal(mu1, cov1, size=10)\n",
    "    Y1 = np.ones(10)\n",
    "    \n",
    "    X = np.append(X0, X1, axis=0); Y = np.append(Y0, Y1)\n",
    "    p = np.random.permutation(20)\n",
    "    X = X[p]; Y = Y[p]\n",
    "    \n",
    "    oneNN = KNeighborsClassifier(n_neighbors=1, n_jobs=-1)\n",
    "    oneNN.fit(X,Y)\n",
    "    oneNN_err = 1 - oneNN.score(X,Y)\n",
    "    \n",
    "    kda = QuadraticDiscriminantAnalysis()\n",
    "    kda.fit(X,Y)\n",
    "    kda_err = 1 - kda.score(X,Y)\n",
    "    \n",
    "    svm1 = SVC(kernel='linear')\n",
    "    svm1.fit(X,Y)\n",
    "    svm1_err = 1 - svm1.score(X,Y)\n",
    "    \n",
    "    svm2 = SVC(kernel='rbf')\n",
    "    svm2.fit(X,Y)\n",
    "    svm2_err = 1 - svm2.score(X,Y)\n",
    "    \n",
    "    gNB = GaussianNB()\n",
    "    gNB.fit(X,Y)\n",
    "    gNB_err = 1 - gNB.score(X,Y)\n",
    "    \n",
    "    return oneNN_err, kda_err, svm1_err, svm2_err, gNB_err    "
   ]
  },
  {
   "cell_type": "code",
   "execution_count": 305,
   "metadata": {},
   "outputs": [
    {
     "data": {
      "image/png": "[encoded data removed]",
      "text/plain": [
       "<Figure size 576x360 with 1 Axes>"
      ]
     },
     "metadata": {},
     "output_type": "display_data"
    }
   ],
   "source": [
    "oneNN_err, kda_err, svm1_err, svm2_err, gNB_err = [],[],[],[],[]\n",
    "for d in D:\n",
    "    tuple_ = classify1(d)\n",
    "    oneNN_err.append(tuple_[0])    \n",
    "    kda_err.append(tuple_[1])\n",
    "    svm1_err.append(tuple_[2])\n",
    "    svm2_err.append(tuple_[3])\n",
    "    gNB_err.append(tuple_[4])\n",
    "plotit(D, (oneNN_err, kda_err, svm1_err, svm2_err, gNB_err))"
   ]
  },
  {
   "cell_type": "markdown",
   "metadata": {},
   "source": [
    "### 3.2"
   ]
  },
  {
   "cell_type": "code",
   "execution_count": 306,
   "metadata": {},
   "outputs": [],
   "source": [
    "def classify2(d):\n",
    "    mu0, cov0 = np.zeros(d), np.identity(d)\n",
    "    mu1, cov1 = np.ones(d), 0.25*np.identity(d)\n",
    "    \n",
    "    X0 = np.random.multivariate_normal(mu0, cov0, size=10)\n",
    "    Y0 = np.zeros(10)\n",
    "    X1 = np.random.multivariate_normal(mu1, cov1, size=10)\n",
    "    Y1 = np.ones(10)\n",
    "    \n",
    "    X = np.append(X0, X1, axis=0); Y = np.append(Y0, Y1)\n",
    "    p = np.random.permutation(20)\n",
    "    X = X[p]; Y = Y[p]\n",
    "    \n",
    "    oneNN = KNeighborsClassifier(n_neighbors=1, n_jobs=-1)\n",
    "    oneNN.fit(X,Y)\n",
    "    oneNN_err = 1 - oneNN.score(X,Y)\n",
    "    \n",
    "    kda = QuadraticDiscriminantAnalysis()\n",
    "    kda.fit(X,Y)\n",
    "    kda_err = 1 - kda.score(X,Y)\n",
    "    \n",
    "    svm1 = SVC(kernel='linear')\n",
    "    svm1.fit(X,Y)\n",
    "    svm1_err = 1 - svm1.score(X,Y)\n",
    "    \n",
    "    svm2 = SVC(kernel='rbf')\n",
    "    svm2.fit(X,Y)\n",
    "    svm2_err = 1 - svm2.score(X,Y)\n",
    "    \n",
    "    gNB = GaussianNB()\n",
    "    gNB.fit(X,Y)\n",
    "    gNB_err = 1 - gNB.score(X,Y)\n",
    "    \n",
    "    return oneNN_err, kda_err, svm1_err, svm2_err, gNB_err    "
   ]
  },
  {
   "cell_type": "code",
   "execution_count": 307,
   "metadata": {},
   "outputs": [
    {
     "data": {
      "image/png": "[encoded data removed]",
      "text/plain": [
       "<Figure size 576x360 with 1 Axes>"
      ]
     },
     "metadata": {},
     "output_type": "display_data"
    }
   ],
   "source": [
    "oneNN_err, kda_err, svm1_err, svm2_err, gNB_err = [],[],[],[],[]\n",
    "for d in D:\n",
    "    tuple_ = classify2(d)\n",
    "    oneNN_err.append(tuple_[0])    \n",
    "    kda_err.append(tuple_[1])\n",
    "    svm1_err.append(tuple_[2])\n",
    "    svm2_err.append(tuple_[3])\n",
    "    gNB_err.append(tuple_[4])\n",
    "plotit(D, (oneNN_err, kda_err, svm1_err, svm2_err, gNB_err))"
   ]
  },
  {
   "cell_type": "markdown",
   "metadata": {},
   "source": [
    "### 3.3"
   ]
  },
  {
   "cell_type": "code",
   "execution_count": 308,
   "metadata": {},
   "outputs": [],
   "source": [
    "def classify3(d):\n",
    "    mu0, cov0 = np.zeros(d), np.identity(d)\n",
    "    mu1, cov1 = np.zeros(d), 0.25*np.identity(d)\n",
    "    \n",
    "    X0 = np.random.multivariate_normal(mu0, cov0, size=10)\n",
    "    Y0 = np.zeros(10)\n",
    "    X1 = np.random.multivariate_normal(mu1, cov1, size=10)\n",
    "    Y1 = np.ones(10)\n",
    "    \n",
    "    X = np.append(X0, X1, axis=0); Y = np.append(Y0, Y1)\n",
    "    p = np.random.permutation(20)\n",
    "    X = X[p]; Y = Y[p]\n",
    "    \n",
    "    oneNN = KNeighborsClassifier(n_neighbors=1, n_jobs=-1)\n",
    "    oneNN.fit(X,Y)\n",
    "    oneNN_err = 1 - oneNN.score(X,Y)\n",
    "    \n",
    "    kda = QuadraticDiscriminantAnalysis()\n",
    "    kda.fit(X,Y)\n",
    "    kda_err = 1 - kda.score(X,Y)\n",
    "    \n",
    "    svm1 = SVC(kernel='linear')\n",
    "    svm1.fit(X,Y)\n",
    "    svm1_err = 1 - svm1.score(X,Y)\n",
    "    \n",
    "    svm2 = SVC(kernel='rbf')\n",
    "    svm2.fit(X,Y)\n",
    "    svm2_err = 1 - svm2.score(X,Y)\n",
    "    \n",
    "    gNB = GaussianNB()\n",
    "    gNB.fit(X,Y)\n",
    "    gNB_err = 1 - gNB.score(X,Y)\n",
    "    \n",
    "    return oneNN_err, kda_err, svm1_err, svm2_err, gNB_err    "
   ]
  },
  {
   "cell_type": "code",
   "execution_count": 309,
   "metadata": {},
   "outputs": [
    {
     "data": {
      "image/png": "[encoded data removed]",
      "text/plain": [
       "<Figure size 576x360 with 1 Axes>"
      ]
     },
     "metadata": {},
     "output_type": "display_data"
    }
   ],
   "source": [
    "oneNN_err, kda_err, svm1_err, svm2_err, gNB_err = [],[],[],[],[]\n",
    "for d in D:\n",
    "    tuple_ = classify3(d)\n",
    "    oneNN_err.append(tuple_[0])    \n",
    "    kda_err.append(tuple_[1])\n",
    "    svm1_err.append(tuple_[2])\n",
    "    svm2_err.append(tuple_[3])\n",
    "    gNB_err.append(tuple_[4])\n",
    "plotit(D, (oneNN_err, kda_err, svm1_err, svm2_err, gNB_err))"
   ]
  },
  {
   "cell_type": "code",
   "execution_count": null,
   "metadata": {},
   "outputs": [],
   "source": []
  }
 ],
 "metadata": {
  "kernelspec": {
   "display_name": "Python 3",
   "language": "python",
   "name": "python3"
  },
  "language_info": {
   "codemirror_mode": {
    "name": "ipython",
    "version": 3
   },
   "file_extension": ".py",
   "mimetype": "text/x-python",
   "name": "python",
   "nbconvert_exporter": "python",
   "pygments_lexer": "ipython3",
   "version": "3.6.8"
  }
 },
 "nbformat": 4,
 "nbformat_minor": 2
}
