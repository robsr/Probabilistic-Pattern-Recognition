{
 "cells": [
  {
   "cell_type": "code",
   "execution_count": 1,
   "metadata": {},
   "outputs": [],
   "source": [
    "import numpy as np\n",
    "import pandas as pd\n",
    "import scipy as sp\n",
    "import math\n",
    "from scipy.stats import multivariate_normal\n",
    "import matplotlib.pyplot as plt\n",
    "import matplotlib\n",
    "import seaborn as sns\n",
    "import time\n",
    "import warnings\n",
    "\n",
    "sns.set_style('darkgrid')\n",
    "warnings.filterwarnings('ignore')\n",
    "matplotlib.rcParams['figure.figsize'] = [8, 5]"
   ]
  },
  {
   "cell_type": "code",
   "execution_count": 2,
   "metadata": {},
   "outputs": [],
   "source": [
    "D = [2,10,25,50]\n",
    "pi1 = [0.5, 0.1]\n",
    "pi2 = [0.5, 0.9]"
   ]
  },
  {
   "cell_type": "markdown",
   "metadata": {},
   "source": [
    "## Case 1\n",
    "### $N_d(0_d, I_d)$ and $N_d(\\mu_d, I_d)$, where $\\mu_d=(d, 0_{d-1})^T$"
   ]
  },
  {
   "cell_type": "code",
   "execution_count": 3,
   "metadata": {},
   "outputs": [],
   "source": [
    "def gen_data(d):\n",
    "    mu0, cov0 = np.zeros(d), np.identity(d)\n",
    "    mu1, cov1 = np.append(np.array([d]), np.zeros(d-1)), np.identity(d)\n",
    "    \n",
    "    X0 = np.random.multivariate_normal(mu0, cov0, size=100)\n",
    "    Y0 = np.zeros(100)\n",
    "    X1 = np.random.multivariate_normal(mu1, cov1, size=100)\n",
    "    Y1 = np.ones(100)\n",
    "    \n",
    "    X0_test = np.random.multivariate_normal(mu0, cov0, size=250)\n",
    "    Y0_test = np.zeros(250)\n",
    "    X1_test = np.random.multivariate_normal(mu1, cov1, size=250)\n",
    "    Y1_test = np.ones(250)\n",
    "    \n",
    "    X = np.append(X0, X1, axis=0); Y = np.append(Y0, Y1)\n",
    "    p = np.random.permutation(200)\n",
    "    X_train = X[p]; Y_train = Y[p]\n",
    "    \n",
    "    X = np.append(X0_test, X1_test, axis=0); Y = np.append(Y0_test, Y1_test)\n",
    "    p = np.random.permutation(500)\n",
    "    X_test = X[p]; Y_test = Y[p]\n",
    "    \n",
    "    return X_train, Y_train, X_test, Y_test"
   ]
  },
  {
   "cell_type": "markdown",
   "metadata": {},
   "source": [
    "#### a : Bayes' Risk"
   ]
  },
  {
   "cell_type": "code",
   "execution_count": 8,
   "metadata": {},
   "outputs": [],
   "source": [
    "def bayesRisk(params, Pi, d):\n",
    "    f0 = sp.stats.multivariate_normal.pdf(x, params[0], params[1])\n",
    "    f1 = sp.stats.multivariate_normal.pdf(x, params[2], params[3])\n",
    "    \n",
    "    \n",
    "    \n",
    "    \n",
    "    exp = 0.5 - 0.5*mcexp\n",
    "    \n",
    "    risks = []\n",
    "    for i in range(len(X_test)):\n",
    "        curr_risk = Pi[0]*() + Pi[1]*()\n",
    "        risks.append(curr_risk)    \n",
    "    print(\"Bayes Risk: {}\".format(np.mean(risks)))  "
   ]
  },
  {
   "cell_type": "code",
   "execution_count": 9,
   "metadata": {},
   "outputs": [
    {
     "ename": "NameError",
     "evalue": "name 'X_test' is not defined",
     "output_type": "error",
     "traceback": [
      "\u001b[1;31m---------------------------------------------------------------------------\u001b[0m",
      "\u001b[1;31mNameError\u001b[0m                                 Traceback (most recent call last)",
      "\u001b[1;32m<ipython-input-9-a8ece42f8ed3>\u001b[0m in \u001b[0;36m<module>\u001b[1;34m\u001b[0m\n\u001b[1;32m----> 1\u001b[1;33m \u001b[0mbayesRisk\u001b[0m\u001b[1;33m(\u001b[0m\u001b[0mX_test\u001b[0m\u001b[1;33m,\u001b[0m \u001b[0mY_test\u001b[0m\u001b[1;33m,\u001b[0m \u001b[1;33m[\u001b[0m\u001b[1;36m0.5\u001b[0m\u001b[1;33m,\u001b[0m\u001b[1;36m0.5\u001b[0m\u001b[1;33m]\u001b[0m\u001b[1;33m,\u001b[0m \u001b[1;36m3\u001b[0m\u001b[1;33m)\u001b[0m\u001b[1;33m\u001b[0m\u001b[1;33m\u001b[0m\u001b[0m\n\u001b[0m",
      "\u001b[1;31mNameError\u001b[0m: name 'X_test' is not defined"
     ]
    }
   ],
   "source": [
    "bayesRisk(X_test, Y_test, [0.5,0.5], 3)"
   ]
  },
  {
   "cell_type": "code",
   "execution_count": 4,
   "metadata": {},
   "outputs": [],
   "source": [
    "def bayesClassifier(x, Pi, params):\n",
    "    f0 = sp.stats.multivariate_normal.pdf(x, params[0], params[1])\n",
    "    f1 = sp.stats.multivariate_normal.pdf(x, params[2], params[3])\n",
    "    if Pi[0]*f0 >= Pi[1]*f1:\n",
    "        return 0\n",
    "    else:\n",
    "        return 1"
   ]
  },
  {
   "cell_type": "markdown",
   "metadata": {},
   "source": [
    "#### b : LDA-QDA"
   ]
  },
  {
   "cell_type": "code",
   "execution_count": 5,
   "metadata": {},
   "outputs": [],
   "source": [
    "def LQDA(d, algo='LDA'):\n",
    "    X_train, Y_train, X_test, Y_test = gen_data(d)\n",
    "    \n",
    "    N = len(Y_train)\n",
    "    N0 = np.sum(Y_train == 0)\n",
    "    N1 = np.sum(Y_train == 1)\n",
    "    \n",
    "    X0 = X_train[Y_train==0]\n",
    "    X1 = X_train[Y_train==1]\n",
    "\n",
    "    #parameters estimation\n",
    "    pi0_est= N0/N\n",
    "    pi1_est = 1-pi0_est\n",
    "\n",
    "    mu0_est = np.sum(X0, axis=0)/N0\n",
    "    mu1_est = np.sum(X1, axis=0)/N1\n",
    "    \n",
    "    cov0_est = np.dot((X0-mu0_est).T, X0 - mu0_est)/N0\n",
    "    cov1_est = np.dot((X1-mu1_est).T, X1 - mu1_est)/N1\n",
    "    \n",
    "    if algo=='LDA':\n",
    "        cov_est = pi0_est*cov0_est + pi1_est*cov1_est        #weighted combination of covariances\n",
    "        \n",
    "        train_pred = []\n",
    "        for i in range(N):\n",
    "            pred = bayesClassifier(X_train[i], [pi0_est, pi1_est], [mu0_est, cov_est, mu1_est, cov_est])\n",
    "            train_pred.append(pred)\n",
    "        train_err = np.mean(train_pred != Y_train)\n",
    "\n",
    "        test_pred = []\n",
    "        for i in range(N):\n",
    "            pred = bayesClassifier(X_test[i], [pi0_est, pi1_est], [mu0_est, cov_est, mu1_est, cov_est])\n",
    "            test_pred.append(pred)\n",
    "        test_err= np.mean(test_pred != Y_test)\n",
    "        \n",
    "        print('Missclasification Rate- TRAIN:{} | TEST:{} | D:{}'.format(train_err, test_err, d))\n",
    "        return train_err, test_err\n",
    "    \n",
    "    elif algo == 'QDA':\n",
    "        train_pred = []\n",
    "        for i in range(N):\n",
    "            pred = bayesClassifier(X_train[i], [pi0_est, pi1_est], [mu0_est, cov0_est, mu1_est, cov1_est])\n",
    "            train_pred.append(pred)\n",
    "        train_err = np.mean(train_pred != Y_train)\n",
    "\n",
    "        test_pred = []\n",
    "        for i in range(N):\n",
    "            pred = bayesClassifier(X_test[i], [pi0_est, pi1_est], [mu0_est, cov0_est, mu1_est, cov1_est])\n",
    "            test_pred.append(pred)\n",
    "        test_err= np.mean(test_pred != Y_test)\n",
    "        print('Missclasification Rate- TRAIN:{} | TEST:{} | D:{}'.format(train_err, test_err, d))\n",
    "        return train_err, test_err\n"
   ]
  },
  {
   "cell_type": "code",
   "execution_count": 6,
   "metadata": {},
   "outputs": [
    {
     "name": "stdout",
     "output_type": "stream",
     "text": [
      "Missclasification Rate- TRAIN:0.17 | TEST:1.0 | D:2\n",
      "Missclasification Rate- TRAIN:0.0 | TEST:1.0 | D:10\n",
      "Missclasification Rate- TRAIN:0.0 | TEST:1.0 | D:25\n",
      "Missclasification Rate- TRAIN:0.0 | TEST:1.0 | D:50\n"
     ]
    }
   ],
   "source": [
    "# Linear Discriminant Analysis\n",
    "for d in D:\n",
    "    LQDA(d, algo='LDA')"
   ]
  },
  {
   "cell_type": "code",
   "execution_count": 7,
   "metadata": {},
   "outputs": [
    {
     "name": "stdout",
     "output_type": "stream",
     "text": [
      "Missclasification Rate- TRAIN:0.14 | TEST:1.0 | D:2\n",
      "Missclasification Rate- TRAIN:0.0 | TEST:1.0 | D:10\n",
      "Missclasification Rate- TRAIN:0.0 | TEST:1.0 | D:25\n",
      "Missclasification Rate- TRAIN:0.0 | TEST:1.0 | D:50\n"
     ]
    }
   ],
   "source": [
    "#QDA\n",
    "for d in D:\n",
    "    LQDA(d, algo='QDA')"
   ]
  },
  {
   "cell_type": "markdown",
   "metadata": {},
   "source": [
    "#### c : KDE"
   ]
  },
  {
   "cell_type": "code",
   "execution_count": 92,
   "metadata": {},
   "outputs": [],
   "source": [
    "# def KDEstimate(d, kernel):\n",
    "#     X_train, Y_train, X_test, Y_test = gen_data(d)\n",
    "\n",
    "    \n",
    "#     #density estimation    \n",
    "#     H = np.sum(X**2, axis=1)**(0.5)      #distances from mean([0,0])\n",
    "#     f_est = np.zeros(N)\n",
    "#     for i in range(N):\n",
    "#         Z_i = (X_test[i] - X)/(H.reshape(-1,1))\n",
    "        \n",
    "#         if kernel == 'gaussian':\n",
    "#             arr = 1/(H**d) * multivariate_normal.cdf(Z_i, mean, cov)\n",
    "#         elif kernel == 'uniform':\n",
    "# #             arr = 1/(H**d) * multivariate_normal.cdf(Z_i, mean, cov)\n",
    "\n",
    "#         f_est[i] = np.mean(arr)    \n",
    "#     return X_test, f_est"
   ]
  },
  {
   "cell_type": "code",
   "execution_count": 8,
   "metadata": {},
   "outputs": [],
   "source": [
    "# D = [2,5,10,20,50,100,200,500]\n",
    "# for d in D:\n",
    "#     timeit = time.time()\n",
    "#     X_plot, pdfEST = KDEstimate(d)\n",
    "#     print(\"Time Taken for d={} : {}s\".format(d, np.round(time.time()-timeit,3)))"
   ]
  },
  {
   "cell_type": "markdown",
   "metadata": {},
   "source": [
    "#### d : kNN"
   ]
  },
  {
   "cell_type": "code",
   "execution_count": 11,
   "metadata": {},
   "outputs": [],
   "source": [
    "from sklearn.neighbors import KNeighborsClassifier\n",
    "\n",
    "def kNNClassify(k, d):\n",
    "    X_train, Y_train, X_test, Y_test = gen_data(d)\n",
    "    clf = KNeighborsClassifier(n_neighbors=k, p=2)\n",
    "    clf.fit(X_train, Y_train)\n",
    "    \n",
    "    train_err = round(1 - clf.score(X_train, Y_train), 3)\n",
    "    test_err = round(1 - clf.score(X_test, Y_test), 3)\n",
    "    \n",
    "    print('Missclasification Rate- TRAIN:{} | TEST:{} | D:{}'.format(train_err, test_err, d))    "
   ]
  },
  {
   "cell_type": "code",
   "execution_count": 16,
   "metadata": {},
   "outputs": [
    {
     "name": "stdout",
     "output_type": "stream",
     "text": [
      "Missclasification Rate- TRAIN:0.155 | TEST:0.194 | D:2\n"
     ]
    }
   ],
   "source": [
    "kNNClassify(5, d=2)"
   ]
  },
  {
   "cell_type": "code",
   "execution_count": null,
   "metadata": {},
   "outputs": [],
   "source": []
  }
 ],
 "metadata": {
  "kernelspec": {
   "display_name": "Python 3",
   "language": "python",
   "name": "python3"
  },
  "language_info": {
   "codemirror_mode": {
    "name": "ipython",
    "version": 3
   },
   "file_extension": ".py",
   "mimetype": "text/x-python",
   "name": "python",
   "nbconvert_exporter": "python",
   "pygments_lexer": "ipython3",
   "version": "3.6.8"
  }
 },
 "nbformat": 4,
 "nbformat_minor": 2
}
